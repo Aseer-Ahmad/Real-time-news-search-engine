{
 "cells": [
  {
   "cell_type": "code",
   "execution_count": 13,
   "metadata": {},
   "outputs": [],
   "source": [
    "from producer import NewsFetcher"
   ]
  },
  {
   "cell_type": "code",
   "execution_count": 26,
   "metadata": {},
   "outputs": [
    {
     "data": {
      "text/plain": [
       "[<bound method NewsFetcher.fetch_from_newsapi of <tools.NewsFetcher object at 0x71d7aeb1f590>>,\n",
       " <bound method NewsFetcher.fetch_from_newsdataapi of <tools.NewsFetcher object at 0x71d7aeb1f590>>]"
      ]
     },
     "execution_count": 26,
     "metadata": {},
     "output_type": "execute_result"
    }
   ],
   "source": [
    "fetcher = NewsFetcher()\n",
    "ff = fetcher.sources\n",
    "ff"
   ]
  },
  {
   "cell_type": "code",
   "execution_count": 31,
   "metadata": {},
   "outputs": [
    {
     "name": "stderr",
     "output_type": "stream",
     "text": [
      "[20/08/2024 17:04:11.938][ERROR][tools] : Error fetching data from source: {'status': 'error', 'code': 'apiKeyInvalid', 'message': 'Your API key is invalid or incorrect. Check your key, or go to https://newsapi.org to create a free API key.'}\n",
      "[20/08/2024 17:04:11.938][ERROR][tools] : {'status': 'error', 'code': 'apiKeyInvalid', 'message': 'Your API key is invalid or incorrect. Check your key, or go to https://newsapi.org to create a free API key.'}\n",
      "Traceback (most recent call last):\n",
      "  File \"/home/cepheus/My GIT/Real-time-news-search-engine/tools.py\", line 43, in wrapper\n",
      "    return func(*args, **kwargs)\n",
      "           ^^^^^^^^^^^^^^^^^^^^^\n",
      "  File \"/home/cepheus/My GIT/Real-time-news-search-engine/tools.py\", line 97, in fetch_from_newsapi\n",
      "    response = self._newsapi.get_everything(\n",
      "               ^^^^^^^^^^^^^^^^^^^^^^^^^^^^^\n",
      "  File \"/home/cepheus/miniconda3/envs/rag/lib/python3.11/site-packages/newsapi/newsapi_client.py\", line 334, in get_everything\n",
      "    raise NewsAPIException(r.json())\n",
      "newsapi.newsapi_exception.NewsAPIException: {'status': 'error', 'code': 'apiKeyInvalid', 'message': 'Your API key is invalid or incorrect. Check your key, or go to https://newsapi.org to create a free API key.'}\n"
     ]
    },
    {
     "data": {
      "text/plain": [
       "[[],\n",
       " [CommonDocument(article_id='f958a58e200cdbe55eae0ba123c4c5b6', title='why are states lagging on ira energy rebates', url='https://www.dominionpost.com/2024/08/19/why-are-states-lagging-on-ira-energy-rebates/', published_at='2024-08-20 03:04:00', source_name='dominionpost', image_url='N/A', author='Opinion, The Dominion Post', description='there may not be much public awareness that the inflation reduction act is the biggest investment in clean energy and climate action in us history but its the post why are states lagging on ira energy rebates appeared first on dominion post', content='only available in paid plans'),\n",
       "  CommonDocument(article_id='c89e4c1d49d64f57d1aa45c54a08ad83', title='kiwi keyboard artists aim to make new zealand proud with maxwell fernie dame malvina major foundation award', url='https://www.scoop.co.nz/stories/CU2408/S00223/kiwi-keyboard-artists-aim-to-make-new-zealand-proud-with-maxwell-fernie-dame-malvina-major-foundation-award.htm', published_at='2024-08-20 03:04:00', source_name='scoop', image_url='https://img.scoop.co.nz/stories/images/2408/ocizmtpstsuv9yjp.jpg', author=None, description='the maxwell fernie dame malvina major foundation award honours the memory of acclaimed new zealand organist conductor and teacher maxwell fernie', content='only available in paid plans'),\n",
       "  CommonDocument(article_id='1bd1cdece0535ea817f8fa30992b3dbc', title='lock him up hillary clinton smiles and nods amid chants echoing trump supporters nbc news', url='https://news.google.com/rss/articles/CBMivwFBVV95cUxQT1dxY3Y0b2FEY2RyNXAzMHhuRnBhZmtuQ3pGT0NnS2NqcmNfT1pDbTBndTJOcXNpWFA4d0NaZmliMWpxLU5xZWZwR053TXdpYVpDX0pEMF9OVnRBZ1c3MG5SZlRIR1VoSlR1emVIa09MZkcwT295cHYxcE9GZF9NZ1U5czJCUWxrZ0pOdnRSaDJSVS1vM0p3YWNEbV9tTkFsYk5rcC05OHpFN3M5SVJtb1d3ZnFDZS01T0NNTDh3UdIBVkFVX3lxTFB3Z0RyajVlRldfQlFRbDU2QjE3NlA1bGNCT3RHcDVWSGJzTGltck11a2IzcGY0TG1QWmRiNGVUekpQVHRkOVhycENzYXF1b3FDYjQtcFRn?oc=5', published_at='2024-08-20 03:04:00', source_name='google', image_url='N/A', author=None, description='lock him up hillary clinton smiles and nods amid chants echoing trump supporters nbc newshillary clinton casts harris in the lineage of female political firsts cnnhillary clinton takes jabs at trump and pins hope on harris to break through glass ceiling the guardian uslive updates hillary clinton speaks at dnc biden up next the hillhillary clinton tells dnc that harris will break hardest glass ceiling the washington post', content='only available in paid plans'),\n",
       "  CommonDocument(article_id='8163c1c54d162783d6002b1540feda20', title='apple re releases out ios 1761 that fixes this important security issue on iphones the times of india', url='https://news.google.com/rss/articles/CBMi_wFBVV95cUxOVng2TmNMWGV6YWRubXNtTEE4QkxtWHM2TENZb3JTSk9GQ2x4TG1vUS1PRmVnckk3eFd4X2ZyMmtreUU4YXFleHlnMXZiR0syaXZHRTlnQ29XTkNOdC0welF3VnEtVXVzVHRzdU1YRHBOcWFNUUJwcEdyRXgtelhJV0tmYjlGSVZiSzJ6ZV84aHFMMjh0WFhlbFE2N2FPVWJZaWFUcHA4OWdZbGdGXzBxd1hNbzhBa21vRTVIbXc3M21HNG1QOGZxUy14RTBTRVBTY1VSN2JSOWZfUDREZGdZSnJsVzctdjZLY0k0SmdHTWVpY184Yl9oemhxLV9DYm_SAYQCQVVfeXFMT01kVUpDRXN3THZRNTVVbHZBcXlGMkcyTGNHdXY5ZWJvNkNpWWY3Z2FZa1ZyRFBCVWxOeDZUYTVvdUxidHc4dWEzbVNLVy12cVZxSzdGZTJUUWFHdGlUajFSQ0c3cV9UTUhuSDRjS1pKNWY0V0VaNGpNWHV1bVZJTkNqU21wZ01wZDE3TkI5VGI3cFpLMEFZc0hVLXZlSVRYSkZjZFBPSFZxYWgzTVE5amJuaHNMZlAtTmUzQi1YclQ5VlNWdDB1RFZJWHRjR1piUkU2cTVvdFhJbG5YMjU5Z01vd2FIWFNWSjRyTWREMlhrT0dBR2J2Vm9RX0NjM0lxQk1MUjY?oc=5', published_at='2024-08-20 03:04:00', source_name='google', image_url='N/A', author=None, description='apple re releases out ios 1761 that fixes this important security issue on iphones the times of indiaios 1762apple prepares to issue mystery new iphone update forbesapple releases new build of ios 1761 and ipados 1761 download iclarifiediphone users get new version of latest ios update heres what it means and why you should install it right now ht techios 1762 coming soon for iphone users 9to5mac', content='only available in paid plans'),\n",
       "  CommonDocument(article_id='8b29ce5a8b0cb0c14f87828141e60d4d', title='cidco cracks down on illegal water booster pumps in kharghar', url='https://www.hindustantimes.com/cities/mumbai-news/cidco-cracks-down-on-illegal-water-booster-pumps-in-kharghar-101724122725536.html', published_at='2024-08-20 03:04:00', source_name='hindustantimes', image_url='https://images.hindustantimes.com/img/2024/08/20/1600x900/c536b544-6515-11ed-b7f8-ce09d82c1fb2_1668538138990_1724122930855.jpg', author=None, description='the inspections conducted by over 25 cidco water department officials and personnel targeted various housing societies in sectors 34 and 35 of kharghar', content='only available in paid plans')]]"
      ]
     },
     "execution_count": 31,
     "metadata": {},
     "output_type": "execute_result"
    }
   ],
   "source": [
    "[msg() for msg in ff]"
   ]
  }
 ],
 "metadata": {
  "kernelspec": {
   "display_name": "rag",
   "language": "python",
   "name": "python3"
  },
  "language_info": {
   "codemirror_mode": {
    "name": "ipython",
    "version": 3
   },
   "file_extension": ".py",
   "mimetype": "text/x-python",
   "name": "python",
   "nbconvert_exporter": "python",
   "pygments_lexer": "ipython3",
   "version": "3.11.9"
  }
 },
 "nbformat": 4,
 "nbformat_minor": 2
}
