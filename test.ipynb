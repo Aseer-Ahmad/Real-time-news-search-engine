{
 "cells": [
  {
   "cell_type": "code",
   "execution_count": 1,
   "metadata": {},
   "outputs": [
    {
     "name": "stderr",
     "output_type": "stream",
     "text": [
      "/home/cepheus/miniconda3/envs/rag/lib/python3.11/site-packages/tqdm/auto.py:21: TqdmWarning: IProgress not found. Please update jupyter and ipywidgets. See https://ipywidgets.readthedocs.io/en/stable/user_install.html\n",
      "  from .autonotebook import tqdm as notebook_tqdm\n"
     ]
    }
   ],
   "source": [
    "from producer import NewsFetcher"
   ]
  },
  {
   "cell_type": "code",
   "execution_count": 2,
   "metadata": {},
   "outputs": [
    {
     "data": {
      "text/plain": [
       "[<bound method NewsFetcher.fetch_from_newsapi of <tools.NewsFetcher object at 0x737a895dc590>>,\n",
       " <bound method NewsFetcher.fetch_from_newsdataapi of <tools.NewsFetcher object at 0x737a895dc590>>]"
      ]
     },
     "execution_count": 2,
     "metadata": {},
     "output_type": "execute_result"
    }
   ],
   "source": [
    "fetcher = NewsFetcher()\n",
    "ff = fetcher.sources\n",
    "ff"
   ]
  },
  {
   "cell_type": "code",
   "execution_count": 3,
   "metadata": {},
   "outputs": [
    {
     "data": {
      "text/plain": [
       "[[CommonDocument(article_id='7913e289-0056-48f2-9258-e5b393dcfb0c', title='this weeks meta quest news was stupidly jam packed', url='https://www.androidcentral.com/gaming/virtual-reality/meta-quest-news-recap-july-26-2024', published_at='2024-07-26 20:36:52', source_name='Android Central', image_url='https://cdn.mos.cms.futurecdn.net/srdnjh2MrjxViWjyDPn6k5-1200-80.jpg', author='Nicholas Sutrich', description='lots of meta quest news came across our desks this week including meta ai coming to quest an upcoming avatar overhaul meta quest 3s leaks and more', content='sometimes life is just too busy to keep up with everything this weeks meta quest news was chock full of announcements releases rumors leaks and all sorts of other stuff that you dont want to  +6832 chars'),\n",
       "  CommonDocument(article_id='21ccfe10-5e99-45e2-b756-d8cca2b2e693', title='a day in court after the rotherham riot', url='https://www.bbc.com/news/articles/c15gg123ydqo', published_at='2024-08-06 17:56:42', source_name='BBC News', image_url='https://ichef.bbci.co.uk/news/1024/branded_news/7261/live/1849db60-5413-11ef-aebc-6de4d31bf5cd.jpg', author=None, description='bbc news attends sheffield magistrates following the cases of those charged with violent disorder', content='six people have been charged over the violent disorder at the holiday inn express in manvers\\r days of rioting and unrest across the uk have resulted in more than 400 arrests and 100 people charged\\r  +4239 chars'),\n",
       "  CommonDocument(article_id='d71c0805-cfdc-4346-9464-734429896152', title='huw edwards bbc pay increased by 40000 last year', url='https://www.bbc.com/news/articles/c4ng8glnljyo', published_at='2024-07-23 10:59:44', source_name='BBC News', image_url='https://ichef.bbci.co.uk/news/1024/branded_news/f99b/live/7132ca90-48d6-11ef-8465-0320941b9104.jpg', author=None, description='gary lineker tops bbc salary list for seventh year running with former news anchor edwards in fourth', content='former bbc news presenter huw edwards who resigned from the bbc on medical advice in april saw his salary increase by 40000 last year\\r edwards remained on the payroll while suspended which is n +3463 chars'),\n",
       "  CommonDocument(article_id='9bb02afe-9edb-4515-993f-f528521f8227', title='ex strictly dancer shocked at complaints', url='https://www.bbc.com/news/articles/clmye4dkmx8o', published_at='2024-07-27 06:19:47', source_name='BBC News', image_url='https://ichef.bbci.co.uk/news/1024/branded_news/61e5/live/ace24480-4b88-11ef-bc61-353517ab4013.jpg', author=None, description='chloe hewitt told bbc radio stoke the news felt like it wasnt real', content='chloe hewitt was a professional dancer on the show in 2016 and 2017\\r a former professional dancer on strictly come dancing said she was shocked by recent complaints of abusive behaviour on the show +3349 chars'),\n",
       "  CommonDocument(article_id='bfcc00c3-50a5-45c0-b746-8a91d9e9b2e2', title='bad news employees non competes arent going anywhere', url='https://www.businessinsider.com/noncompete-ban-overturned-judge-employee-working-competitor-2024-8', published_at='2024-08-21 00:56:18', source_name='Business Insider', image_url='https://i.insider.com/6504bf7cc72f090019a7cefa?width=1200&format=jpeg', author='Shubhangi Goel', description='your noncompete was set to expire in two weeks a judge just tossed a us wide ban out', content='lina khans ftc sought to ban noncompete agreementskevin dietschgetty images\\r <ul><li>a federal judge blocked the federal trade commissions non compete regulation<li><li>the texas judge ruled th +808 chars')],\n",
       " [CommonDocument(article_id='90eba2b4ac9d5e45fe2fef43a1c61e34', title='the dnc was avoiding controversy  then it refused to give palestinians airtime', url='https://www.vox.com/politics/368411/dnc-palestinian-speaker-uncommitted-democratic-national-convention', published_at='2024-08-22 23:31:00', source_name='vox', image_url='https://platform.vox.com/wp-content/uploads/sites/2/2024/08/gettyimages-2167832370.jpg?crop=0%2C0%2C100%2C100&quality=90&strip=all', author='Abdallah Fayyad', description='the democratic national convention dnc was on track to closing out with little controversy until yesterday when the democratic national committee decided to reject pro palestinian delegates efforts to get a palestinian american speaker on the main stage as a result uncommitted delegates  representing a democratic primary campaign that encouraged voters to choose uncommitted over ', content='only available in paid plans'),\n",
       "  CommonDocument(article_id='52ef0adeb402964d95f6b2f576066985', title='colleagues pay tribute to denison officer who lost cancer fight', url='https://kdhnews.com/news/texas/colleagues-pay-tribute-to-denison-officer-who-lost-cancer-fight/article_db5b3c51-a9b4-5c30-aea7-5c92a57bbf91.html', published_at='2024-08-22 23:31:00', source_name='kdhnews', image_url='N/A', author='Olivea Herzberg', description='denison texas kten  denison police officer will deering made his final journey home on thursday afternoon', content='only available in paid plans'),\n",
       "  CommonDocument(article_id='596df221f8b797a74851a1c7e95d8d48', title='annual greek festival set for saturday at greek orthodox church in pocatello', url='https://www.idahostatejournal.com/news/local/annual-greek-festival-set-for-saturday-at-greek-orthodox-church-in-pocatello/article_8f195ab6-5fdc-11ef-8f73-633ff4cf5ec8.html', published_at='2024-08-22 23:31:00', source_name='idahostatejournal', image_url='https://bloximages.chicago2.vip.townnews.com/idahostatejournal.com/content/tncms/assets/v3/editorial/2/10/2105e2e0-2331-11ed-9cfa-732d1160c5a9/630551e2c0a87.image.jpg?resize=300%2C155', author=None, description='pocatello  the annual greek festival is set to take place this saturday at the greek orthodox church on north fifth avenue', content='only available in paid plans'),\n",
       "  CommonDocument(article_id='d6e856dd0e1e7e1ba9edc1ab9f4ce709', title='colleagues pay tribute to denison officer who lost cancer fight', url='https://tylerpaper.com/news/texas/colleagues-pay-tribute-to-denison-officer-who-lost-cancer-fight/article_6a83fb00-4120-55c0-9a72-4418659dcde1.html', published_at='2024-08-22 23:31:00', source_name='tylerpaper', image_url='N/A', author='Olivea Herzberg', description='denison texas kten  denison police officer will deering made his final journey home on thursday afternoon', content='only available in paid plans'),\n",
       "  CommonDocument(article_id='5173d422b8c5cb1a80800a9289231ec0', title='three sentenced in fentanyl trafficking case', url='https://www.hometownregister.com/news/state/three-sentenced-in-fentanyl-trafficking-case/article_996b32ed-2a99-5a76-877a-9baef491dbf9.html', published_at='2024-08-22 23:31:00', source_name='hometownregister', image_url='N/A', author='By Cameron Arcand | The Center Square', description='the center square attorney general kris mayes announced major fentanyl and meth trafficking sentences on thursday', content='only available in paid plans')]]"
      ]
     },
     "execution_count": 3,
     "metadata": {},
     "output_type": "execute_result"
    }
   ],
   "source": [
    "[msg() for msg in ff]"
   ]
  }
 ],
 "metadata": {
  "kernelspec": {
   "display_name": "rag",
   "language": "python",
   "name": "python3"
  },
  "language_info": {
   "codemirror_mode": {
    "name": "ipython",
    "version": 3
   },
   "file_extension": ".py",
   "mimetype": "text/x-python",
   "name": "python",
   "nbconvert_exporter": "python",
   "pygments_lexer": "ipython3",
   "version": "3.11.9"
  }
 },
 "nbformat": 4,
 "nbformat_minor": 2
}
